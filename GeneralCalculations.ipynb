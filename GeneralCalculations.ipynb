{
 "cells": [
  {
   "cell_type": "code",
   "execution_count": 30,
   "metadata": {},
   "outputs": [
    {
     "name": "stdout",
     "output_type": "stream",
     "text": [
      "Populating the interactive namespace from numpy and matplotlib\n"
     ]
    }
   ],
   "source": [
    "import numpy as np\n",
    "%pylab inline"
   ]
  },
  {
   "cell_type": "code",
   "execution_count": 31,
   "metadata": {},
   "outputs": [
    {
     "data": {
      "text/plain": [
       "'\\nParametros de amber de Julian \\nAMBER Barrier (kcal/mol)\\n/hpcfs/home/dr.figueroa10/FFParmOpt/DATOS_Pre/STX_1.frcmod \\n\\nparametrizado con GAFF2 y metodologia RESP para las cargas (.log en archivos)\\n\\no -c -ce-cf   4(multiplicad)    8.700       180.000           2.000\\nO3-C2-C1-C77 ( en atom index )\\nparametros para el dihedoro analizado en O5 C22 C23 C24\\n\\nDocumentacion de parametros de amber. (cluster)\\nvi /lustre/apps/anaconda/2/envs/18-amber/dat/leap/parm/gaff2.dat\\n\\n\\nParametros de CHARMM \\n\\n/home/UANDES/dr.figueroa10/Documentos/FFParams/JohnErick/PARAMSCHARMGUI/STX_charmm/gromacs\\ngrep CG2DC1 charmm36_new.itp  | grep OG2D1\\n\\nCG2DC1  CG2DC1   CG2O2   OG2D1     9  1.800000e+02  5.857600e+00      2(multiplicad)\\n\\n'"
      ]
     },
     "execution_count": 31,
     "metadata": {},
     "output_type": "execute_result"
    }
   ],
   "source": [
    "\n",
    "'''\n",
    "Parametros de amber de Julian \n",
    "AMBER Barrier (kcal/mol)\n",
    "/hpcfs/home/dr.figueroa10/FFParmOpt/DATOS_Pre/STX_1.frcmod \n",
    "\n",
    "parametrizado con GAFF2 y metodologia RESP para las cargas (.log en archivos)\n",
    "\n",
    "o -c -ce-cf   4(multiplicad)    8.700       180.000           2.000\n",
    "O3-C2-C1-C77 ( en atom index )\n",
    "parametros para el dihedoro analizado en O5 C22 C23 C24\n",
    "\n",
    "Documentacion de parametros de amber. (cluster)\n",
    "vi /lustre/apps/anaconda/2/envs/18-amber/dat/leap/parm/gaff2.dat\n",
    "\n",
    "\n",
    "Parametros de CHARMM \n",
    "\n",
    "/home/UANDES/dr.figueroa10/Documentos/FFParams/JohnErick/PARAMSCHARMGUI/STX_charmm/gromacs\n",
    "grep CG2DC1 charmm36_new.itp  | grep OG2D1\n",
    "\n",
    "CG2DC1  CG2DC1   CG2O2   OG2D1     9  1.800000e+02  5.857600e+00      2(multiplicad)\n",
    "\n",
    "'''\n"
   ]
  },
  {
   "cell_type": "code",
   "execution_count": 32,
   "metadata": {},
   "outputs": [
    {
     "data": {
      "image/png": "[encoded data removed]",
      "text/plain": [
       "<Figure size 432x288 with 1 Axes>"
      ]
     },
     "metadata": {
      "needs_background": "light"
     },
     "output_type": "display_data"
    }
   ],
   "source": [
    "def dieh_CHARM(theta,phi,n,k):\n",
    "    dihedral_CHARM = k*(1+np.cos((n*theta-phi)*np.pi/180))\n",
    "    plt.plot(thetha,dihedral_CHARM,label=\"CHARMM\")\n",
    "    plt.grid()\n",
    "    #return deihdral\n",
    "def dieh_AMBER(theta,phi,n,k):\n",
    "    dihedral_AMBER = k*(1+np.cos((n*theta-phi)*np.pi/180))\n",
    "    plt.plot(thetha,dihedral_AMBER,label=\"AMBER\")\n",
    "    plt,legend()\n",
    "    plt.grid()\n",
    "thetha= np.arange(0,360,0.1)\n",
    "dieh_CHARM(thetha,180,2,(5.875/4.186))\n",
    "dieh_AMBER(thetha,180,4,8.7)"
   ]
  },
  {
   "cell_type": "code",
   "execution_count": 33,
   "metadata": {},
   "outputs": [],
   "source": [
    "### read_scan"
   ]
  },
  {
   "cell_type": "code",
   "execution_count": 34,
   "metadata": {},
   "outputs": [],
   "source": [
    "lines = [line.rstrip('\\n') for line in open('qm_data.dat')]"
   ]
  },
  {
   "cell_type": "code",
   "execution_count": 35,
   "metadata": {},
   "outputs": [
    {
     "data": {
      "text/plain": [
       "'-2592.21827'"
      ]
     },
     "execution_count": 35,
     "metadata": {},
     "output_type": "execute_result"
    }
   ],
   "source": [
    "max(lines)"
   ]
  },
  {
   "cell_type": "code",
   "execution_count": 36,
   "metadata": {},
   "outputs": [
    {
     "data": {
      "text/plain": [
       "[25]"
      ]
     },
     "execution_count": 36,
     "metadata": {},
     "output_type": "execute_result"
    }
   ],
   "source": [
    "indexes = [i for i, x in enumerate(lines) if x == max(lines)]\n",
    "indexes"
   ]
  },
  {
   "cell_type": "code",
   "execution_count": 37,
   "metadata": {},
   "outputs": [
    {
     "data": {
      "text/plain": [
       "['-2592.21826',\n",
       " '-2592.21768',\n",
       " '-2592.21601',\n",
       " '-2592.21333',\n",
       " '-2592.21006',\n",
       " '-2592.20717',\n",
       " '-2592.20578',\n",
       " '-2592.20676',\n",
       " '-2592.20955',\n",
       " '-2592.21287',\n",
       " '-2592.21562',\n",
       " '-2592.21739',\n",
       " '-2592.2182',\n",
       " '-2592.21813',\n",
       " '-2592.21721',\n",
       " '-2592.21535',\n",
       " '-2592.2125',\n",
       " '-2592.20916',\n",
       " '-2592.20643',\n",
       " '-2592.20563',\n",
       " '-2592.20718',\n",
       " '-2592.2102',\n",
       " '-2592.21349',\n",
       " '-2592.21611',\n",
       " '-2592.21775',\n",
       " '-2592.21827']"
      ]
     },
     "execution_count": 37,
     "metadata": {},
     "output_type": "execute_result"
    }
   ],
   "source": [
    "lines"
   ]
  },
  {
   "cell_type": "code",
   "execution_count": 38,
   "metadata": {},
   "outputs": [
    {
     "data": {
      "text/plain": [
       "'-2592.21827'"
      ]
     },
     "execution_count": 38,
     "metadata": {},
     "output_type": "execute_result"
    }
   ],
   "source": [
    "lines[25]"
   ]
  },
  {
   "cell_type": "code",
   "execution_count": 47,
   "metadata": {},
   "outputs": [
    {
     "name": "stdout",
     "output_type": "stream",
     "text": [
      "0.006274999841480167\n",
      "0.37022499977865664\n",
      "1.418149999843763\n",
      "3.099849999878188\n",
      "5.151774999976624\n",
      "6.965249999821026\n",
      "7.837475000044378\n",
      "7.222524999884854\n",
      "5.471799999882023\n",
      "3.388500000005479\n",
      "1.6628749999392767\n",
      "0.5522000000325988\n",
      "0.04392500003177702\n",
      "0.08784999977820007\n",
      "0.6651500000327815\n",
      "1.8322999999395506\n",
      "3.620674999847324\n",
      "5.716524999977537\n",
      "7.429599999790071\n",
      "7.9315999999494124\n",
      "6.958974999979546\n",
      "5.06392499991307\n",
      "2.9994499998463198\n",
      "1.3554000000021915\n",
      "0.3263000000322336\n",
      "0.0\n"
     ]
    },
    {
     "data": {
      "text/plain": [
       "26"
      ]
     },
     "execution_count": 47,
     "metadata": {},
     "output_type": "execute_result"
    }
   ],
   "source": [
    "val_qm = []\n",
    "for i in lines:\n",
    "    print ((float(i)-float(lines[25]))*627.5)\n",
    "    val_qm.append((float(i)-float(lines[25]))*627.5)\n",
    "len(val_qm)"
   ]
  },
  {
   "cell_type": "code",
   "execution_count": 48,
   "metadata": {},
   "outputs": [
    {
     "data": {
      "text/plain": [
       "26"
      ]
     },
     "execution_count": 48,
     "metadata": {},
     "output_type": "execute_result"
    }
   ],
   "source": [
    "dieh = np.arange(-179.54,190,14.4)\n",
    "len(dieh)"
   ]
  },
  {
   "cell_type": "code",
   "execution_count": 49,
   "metadata": {},
   "outputs": [
    {
     "data": {
      "text/plain": [
       "<matplotlib.collections.PathCollection at 0x7f4dce5c1320>"
      ]
     },
     "execution_count": 49,
     "metadata": {},
     "output_type": "execute_result"
    },
    {
     "data": {
      "image/png": "[encoded data removed]",
      "text/plain": [
       "<Figure size 432x288 with 1 Axes>"
      ]
     },
     "metadata": {
      "needs_background": "light"
     },
     "output_type": "display_data"
    }
   ],
   "source": [
    "plt.scatter(dieh,val_qm)"
   ]
  },
  {
   "cell_type": "code",
   "execution_count": null,
   "metadata": {},
   "outputs": [],
   "source": []
  },
  {
   "cell_type": "code",
   "execution_count": null,
   "metadata": {},
   "outputs": [],
   "source": []
  }
 ],
 "metadata": {
  "kernelspec": {
   "display_name": "Python 3",
   "language": "python",
   "name": "python3"
  },
  "language_info": {
   "codemirror_mode": {
    "name": "ipython",
    "version": 3
   },
   "file_extension": ".py",
   "mimetype": "text/x-python",
   "name": "python",
   "nbconvert_exporter": "python",
   "pygments_lexer": "ipython3",
   "version": "3.6.8"
  }
 },
 "nbformat": 4,
 "nbformat_minor": 2
}
